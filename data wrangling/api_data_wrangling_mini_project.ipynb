{
 "cells": [
  {
   "cell_type": "markdown",
   "metadata": {},
   "source": [
    "This exercise will require you to pull some data from the Qunadl API. Qaundl is currently the most widely used aggregator of financial market data."
   ]
  },
  {
   "cell_type": "markdown",
   "metadata": {},
   "source": [
    "As a first step, you will need to register a free account on the http://www.quandl.com website."
   ]
  },
  {
   "cell_type": "markdown",
   "metadata": {},
   "source": [
    "After you register, you will be provided with a unique API key, that you should store:"
   ]
  },
  {
   "cell_type": "code",
   "execution_count": 1,
   "metadata": {
    "ExecuteTime": {
     "end_time": "2019-06-12T11:07:12.883127Z",
     "start_time": "2019-06-12T11:07:12.880370Z"
    }
   },
   "outputs": [],
   "source": [
    "# Store the API key as a string - according to PEP8, constants are always named in all upper case\n",
    "API_KEY = '_aKAyuXZsz9s1_WGsy4S'"
   ]
  },
  {
   "cell_type": "markdown",
   "metadata": {},
   "source": [
    "Qaundl has a large number of data sources, but, unfortunately, most of them require a Premium subscription. Still, there are also a good number of free datasets."
   ]
  },
  {
   "cell_type": "markdown",
   "metadata": {},
   "source": [
    "For this mini project, we will focus on equities data from the Frankfurt Stock Exhange (FSE), which is available for free. We'll try and analyze the stock prices of a company called Carl Zeiss Meditec, which manufactures tools for eye examinations, as well as medical lasers for laser eye surgery: https://www.zeiss.com/meditec/int/home.html. The company is listed under the stock ticker AFX_X."
   ]
  },
  {
   "cell_type": "markdown",
   "metadata": {},
   "source": [
    "You can find the detailed Quandl API instructions here: https://docs.quandl.com/docs/time-series"
   ]
  },
  {
   "cell_type": "markdown",
   "metadata": {},
   "source": [
    "While there is a dedicated Python package for connecting to the Quandl API, we would prefer that you use the *requests* package, which can be easily downloaded using *pip* or *conda*. You can find the documentation for the package here: http://docs.python-requests.org/en/master/ "
   ]
  },
  {
   "cell_type": "markdown",
   "metadata": {},
   "source": [
    "Finally, apart from the *requests* package, you are encouraged to not use any third party Python packages, such as *pandas*, and instead focus on what's available in the Python Standard Library (the *collections* module might come in handy: https://pymotw.com/3/collections/ ).\n",
    "Also, since you won't have access to DataFrames, you are encouraged to us Python's native data structures - preferably dictionaries, though some questions can also be answered using lists.\n",
    "You can read more on these data structures here: https://docs.python.org/3/tutorial/datastructures.html"
   ]
  },
  {
   "cell_type": "markdown",
   "metadata": {},
   "source": [
    "Keep in mind that the JSON responses you will be getting from the API map almost one-to-one to Python's dictionaries. Unfortunately, they can be very nested, so make sure you read up on indexing dictionaries in the documentation provided above."
   ]
  },
  {
   "cell_type": "code",
   "execution_count": 2,
   "metadata": {
    "ExecuteTime": {
     "end_time": "2019-06-12T11:11:13.641906Z",
     "start_time": "2019-06-12T11:11:13.531842Z"
    }
   },
   "outputs": [],
   "source": [
    "# First, import the relevant modules\n",
    "import requests\n",
    "import json"
   ]
  },
  {
   "cell_type": "code",
   "execution_count": 18,
   "metadata": {
    "ExecuteTime": {
     "end_time": "2019-06-12T11:21:07.437523Z",
     "start_time": "2019-06-12T11:21:07.006044Z"
    }
   },
   "outputs": [],
   "source": [
    "# Now, call the Quandl API and pull out a small sample of the data (only one day) to get a glimpse\n",
    "# into the JSON structure that will be returned\n",
    "fb_data = json.loads(requests.get(\"https://www.quandl.com/api/v3/datasets/WIKI/FB.json?column_index=4&start_date=2015-06-01&end_date=2016-06-05&collapse=monthly&transform=rdiff&api_key=\" + API_KEY ).text)\n"
   ]
  },
  {
   "cell_type": "code",
   "execution_count": 20,
   "metadata": {
    "ExecuteTime": {
     "end_time": "2019-06-12T11:21:19.545058Z",
     "start_time": "2019-06-12T11:21:19.478661Z"
    }
   },
   "outputs": [
    {
     "data": {
      "text/plain": [
       "[['2016-06-30', -0.0028617119771063],\n",
       " ['2016-05-31', 0.010460962748767],\n",
       " ['2016-04-30', 0.030499561787905],\n",
       " ['2016-03-31', 0.067153011597456],\n",
       " ['2016-02-29', -0.047143748329026],\n",
       " ['2016-01-31', 0.072138352761322],\n",
       " ['2015-12-31', 0.0040291634689179],\n",
       " ['2015-11-30', 0.022261449445915],\n",
       " ['2015-10-31', 0.13640922768305],\n",
       " ['2015-09-30', 0.0033545790003354],\n",
       " ['2015-08-31', -0.048718221465802],\n",
       " ['2015-07-31', 0.09613478691774]]"
      ]
     },
     "execution_count": 20,
     "metadata": {},
     "output_type": "execute_result"
    }
   ],
   "source": [
    "# Inspect the JSON structure of the object you created, and take note of how nested it is,\n",
    "# as well as the overall structure\n",
    "fb_data['dataset']['data']"
   ]
  },
  {
   "cell_type": "markdown",
   "metadata": {},
   "source": [
    "These are your tasks for this mini project:\n",
    "\n",
    "1. Collect data from the Franfurt Stock Exchange, for the ticker AFX_X, for the whole year 2017 (keep in mind that the date format is YYYY-MM-DD).\n",
    "2. Convert the returned JSON object into a Python dictionary.\n",
    "3. Calculate what the highest and lowest opening prices were for the stock in this period.\n",
    "4. What was the largest change in any one day (based on High and Low price)?\n",
    "5. What was the largest change between any two days (based on Closing Price)?\n",
    "6. What was the average daily trading volume during this year?\n",
    "7. (Optional) What was the median trading volume during this year. (Note: you may need to implement your own function for calculating the median.)"
   ]
  },
  {
   "cell_type": "markdown",
   "metadata": {
    "collapsed": true
   },
   "source": [
    "### get 2017 data "
   ]
  },
  {
   "cell_type": "markdown",
   "metadata": {},
   "source": [
    "### convert to python dict"
   ]
  },
  {
   "cell_type": "code",
   "execution_count": 55,
   "metadata": {
    "ExecuteTime": {
     "end_time": "2019-06-12T12:14:36.454277Z",
     "start_time": "2019-06-12T12:14:35.977969Z"
    }
   },
   "outputs": [],
   "source": [
    "afx_data = json.loads(requests.get(\"https://www.quandl.com/api/v3/datasets/FSE/AFX_X/data.json?start_date=2017-01-01&end_date=2017-12-31&collapse=monthly&transform=rdiff&api_key=\" + API_KEY ).text)"
   ]
  },
  {
   "cell_type": "code",
   "execution_count": 56,
   "metadata": {
    "ExecuteTime": {
     "end_time": "2019-06-12T12:14:37.243575Z",
     "start_time": "2019-06-12T12:14:37.237996Z"
    }
   },
   "outputs": [
    {
     "data": {
      "text/plain": [
       "{'dataset_data': {'limit': None,\n",
       "  'transform': 'rdiff',\n",
       "  'column_index': None,\n",
       "  'column_names': ['Date',\n",
       "   'Open',\n",
       "   'High',\n",
       "   'Low',\n",
       "   'Close',\n",
       "   'Change',\n",
       "   'Traded Volume',\n",
       "   'Turnover',\n",
       "   'Last Price of the Day',\n",
       "   'Daily Traded Units',\n",
       "   'Daily Turnover'],\n",
       "  'start_date': '2017-01-01',\n",
       "  'end_date': '2017-12-31',\n",
       "  'frequency': 'daily',\n",
       "  'data': [['2017-12-31',\n",
       "    0.064144736842105,\n",
       "    0.042134831460674,\n",
       "    0.065658657829329,\n",
       "    0.041448692152917,\n",
       "    None,\n",
       "    -0.71841748022663,\n",
       "    -0.70546365911492,\n",
       "    None,\n",
       "    None,\n",
       "    None],\n",
       "   ['2017-11-30',\n",
       "    0.045347087900279,\n",
       "    0.068381564844588,\n",
       "    0.058539793904846,\n",
       "    0.086101398601399,\n",
       "    None,\n",
       "    1.1871988621211,\n",
       "    1.3536698619206,\n",
       "    None,\n",
       "    None,\n",
       "    None],\n",
       "   ['2017-10-31',\n",
       "    0.067691601652134,\n",
       "    0.056146705908988,\n",
       "    0.053348729792148,\n",
       "    0.035997283223908,\n",
       "    None,\n",
       "    -0.43654140912233,\n",
       "    -0.41037234115339,\n",
       "    None,\n",
       "    None,\n",
       "    None],\n",
       "   ['2017-09-30',\n",
       "    0.037619047619048,\n",
       "    0.049667300380228,\n",
       "    0.053015564202335,\n",
       "    0.05417661097852,\n",
       "    None,\n",
       "    -0.36777335832996,\n",
       "    -0.33363788334701,\n",
       "    None,\n",
       "    None,\n",
       "    None],\n",
       "   ['2017-08-31',\n",
       "    -0.065420560747664,\n",
       "    -0.080218579234973,\n",
       "    -0.085002225189141,\n",
       "    -0.075055187637969,\n",
       "    None,\n",
       "    1.519274955323,\n",
       "    1.3135422489901,\n",
       "    None,\n",
       "    None,\n",
       "    None],\n",
       "   ['2017-07-31',\n",
       "    -0.0015552099533437,\n",
       "    0.00021862702229991,\n",
       "    -0.0013333333333334,\n",
       "    -0.003080985915493,\n",
       "    None,\n",
       "    -0.53955566004467,\n",
       "    -0.54030354534917,\n",
       "    None,\n",
       "    None,\n",
       "    None],\n",
       "   ['2017-06-30',\n",
       "    -0.0046439628482972,\n",
       "    -0.011240812797233,\n",
       "    -0.0048651039363113,\n",
       "    -0.0091583078935892,\n",
       "    None,\n",
       "    259.75095785441,\n",
       "    256.32606887373,\n",
       "    None,\n",
       "    None,\n",
       "    None],\n",
       "   ['2017-05-31',\n",
       "    0.072326298316339,\n",
       "    0.09491124260355,\n",
       "    0.085453672587614,\n",
       "    0.099232981783317,\n",
       "    None,\n",
       "    -0.9939546949553,\n",
       "    -0.99333331300018,\n",
       "    None,\n",
       "    None,\n",
       "    None],\n",
       "   ['2017-04-30',\n",
       "    0.06034699522253,\n",
       "    0.054404791614674,\n",
       "    0.056823947234906,\n",
       "    0.04352176088044,\n",
       "    None,\n",
       "    -0.094713887316265,\n",
       "    -0.049662442843475,\n",
       "    None,\n",
       "    None,\n",
       "    None],\n",
       "   ['2017-03-31',\n",
       "    -0.015106488360575,\n",
       "    -0.021489621489622,\n",
       "    -0.023774145616642,\n",
       "    -0.02105778648384,\n",
       "    None,\n",
       "    0.41432384341637,\n",
       "    0.38152377256589,\n",
       "    None,\n",
       "    None,\n",
       "    None],\n",
       "   ['2017-02-28',\n",
       "    0.14585698070375,\n",
       "    0.16203178206583,\n",
       "    0.16840277777778,\n",
       "    0.18171296296296,\n",
       "    None,\n",
       "    0.064209180855596,\n",
       "    0.24887808280024,\n",
       "    None,\n",
       "    None,\n",
       "    None]],\n",
       "  'collapse': 'monthly',\n",
       "  'order': None}}"
      ]
     },
     "execution_count": 56,
     "metadata": {},
     "output_type": "execute_result"
    }
   ],
   "source": [
    "afx_data"
   ]
  },
  {
   "cell_type": "markdown",
   "metadata": {},
   "source": [
    "### highest and lowest price"
   ]
  },
  {
   "cell_type": "code",
   "execution_count": 57,
   "metadata": {
    "ExecuteTime": {
     "end_time": "2019-06-12T12:15:08.744802Z",
     "start_time": "2019-06-12T12:15:08.696439Z"
    },
    "scrolled": false
   },
   "outputs": [
    {
     "data": {
      "text/plain": [
       "[['2017-12-31',\n",
       "  0.064144736842105,\n",
       "  0.042134831460674,\n",
       "  0.065658657829329,\n",
       "  0.041448692152917,\n",
       "  None,\n",
       "  -0.71841748022663,\n",
       "  -0.70546365911492,\n",
       "  None,\n",
       "  None,\n",
       "  None],\n",
       " ['2017-11-30',\n",
       "  0.045347087900279,\n",
       "  0.068381564844588,\n",
       "  0.058539793904846,\n",
       "  0.086101398601399,\n",
       "  None,\n",
       "  1.1871988621211,\n",
       "  1.3536698619206,\n",
       "  None,\n",
       "  None,\n",
       "  None],\n",
       " ['2017-10-31',\n",
       "  0.067691601652134,\n",
       "  0.056146705908988,\n",
       "  0.053348729792148,\n",
       "  0.035997283223908,\n",
       "  None,\n",
       "  -0.43654140912233,\n",
       "  -0.41037234115339,\n",
       "  None,\n",
       "  None,\n",
       "  None],\n",
       " ['2017-09-30',\n",
       "  0.037619047619048,\n",
       "  0.049667300380228,\n",
       "  0.053015564202335,\n",
       "  0.05417661097852,\n",
       "  None,\n",
       "  -0.36777335832996,\n",
       "  -0.33363788334701,\n",
       "  None,\n",
       "  None,\n",
       "  None],\n",
       " ['2017-08-31',\n",
       "  -0.065420560747664,\n",
       "  -0.080218579234973,\n",
       "  -0.085002225189141,\n",
       "  -0.075055187637969,\n",
       "  None,\n",
       "  1.519274955323,\n",
       "  1.3135422489901,\n",
       "  None,\n",
       "  None,\n",
       "  None],\n",
       " ['2017-07-31',\n",
       "  -0.0015552099533437,\n",
       "  0.00021862702229991,\n",
       "  -0.0013333333333334,\n",
       "  -0.003080985915493,\n",
       "  None,\n",
       "  -0.53955566004467,\n",
       "  -0.54030354534917,\n",
       "  None,\n",
       "  None,\n",
       "  None],\n",
       " ['2017-06-30',\n",
       "  -0.0046439628482972,\n",
       "  -0.011240812797233,\n",
       "  -0.0048651039363113,\n",
       "  -0.0091583078935892,\n",
       "  None,\n",
       "  259.75095785441,\n",
       "  256.32606887373,\n",
       "  None,\n",
       "  None,\n",
       "  None],\n",
       " ['2017-05-31',\n",
       "  0.072326298316339,\n",
       "  0.09491124260355,\n",
       "  0.085453672587614,\n",
       "  0.099232981783317,\n",
       "  None,\n",
       "  -0.9939546949553,\n",
       "  -0.99333331300018,\n",
       "  None,\n",
       "  None,\n",
       "  None],\n",
       " ['2017-04-30',\n",
       "  0.06034699522253,\n",
       "  0.054404791614674,\n",
       "  0.056823947234906,\n",
       "  0.04352176088044,\n",
       "  None,\n",
       "  -0.094713887316265,\n",
       "  -0.049662442843475,\n",
       "  None,\n",
       "  None,\n",
       "  None],\n",
       " ['2017-03-31',\n",
       "  -0.015106488360575,\n",
       "  -0.021489621489622,\n",
       "  -0.023774145616642,\n",
       "  -0.02105778648384,\n",
       "  None,\n",
       "  0.41432384341637,\n",
       "  0.38152377256589,\n",
       "  None,\n",
       "  None,\n",
       "  None],\n",
       " ['2017-02-28',\n",
       "  0.14585698070375,\n",
       "  0.16203178206583,\n",
       "  0.16840277777778,\n",
       "  0.18171296296296,\n",
       "  None,\n",
       "  0.064209180855596,\n",
       "  0.24887808280024,\n",
       "  None,\n",
       "  None,\n",
       "  None]]"
      ]
     },
     "execution_count": 57,
     "metadata": {},
     "output_type": "execute_result"
    }
   ],
   "source": [
    "price_list = afx_data['dataset_data']['data']\n",
    "price_list"
   ]
  },
  {
   "cell_type": "code",
   "execution_count": 58,
   "metadata": {
    "ExecuteTime": {
     "end_time": "2019-06-12T12:15:18.291793Z",
     "start_time": "2019-06-12T12:15:18.287577Z"
    }
   },
   "outputs": [
    {
     "name": "stdout",
     "output_type": "stream",
     "text": [
      "[0.064144736842105, 0.045347087900279, 0.067691601652134, 0.037619047619048, -0.065420560747664, -0.0015552099533437, -0.0046439628482972, 0.072326298316339, 0.06034699522253, -0.015106488360575, 0.14585698070375]\n"
     ]
    }
   ],
   "source": [
    "day, price = [], []\n",
    "for i in price_list:\n",
    "    day.append(i[0])\n",
    "    price.append(i[1])\n",
    "print(price)"
   ]
  },
  {
   "cell_type": "code",
   "execution_count": 60,
   "metadata": {
    "ExecuteTime": {
     "end_time": "2019-06-12T12:15:27.844859Z",
     "start_time": "2019-06-12T12:15:27.792588Z"
    }
   },
   "outputs": [
    {
     "name": "stdout",
     "output_type": "stream",
     "text": [
      "Max Opening Price ->  0.14585698070375 , Min Closing Price ->  -0.065420560747664\n"
     ]
    }
   ],
   "source": [
    "print(\"Max Opening Price -> \", max(price), \", Min Closing Price -> \", min(price))"
   ]
  },
  {
   "cell_type": "markdown",
   "metadata": {},
   "source": [
    "### Largest Change in a day"
   ]
  },
  {
   "cell_type": "code",
   "execution_count": 61,
   "metadata": {
    "ExecuteTime": {
     "end_time": "2019-06-12T12:17:06.721954Z",
     "start_time": "2019-06-12T12:17:06.718120Z"
    }
   },
   "outputs": [
    {
     "name": "stdout",
     "output_type": "stream",
     "text": [
      "0.04075431070112\n"
     ]
    }
   ],
   "source": [
    "change = 0\n",
    "for i in price_list:\n",
    "    if change < (i[4] - i[1]):\n",
    "        change = i[4] - i[1]\n",
    "print(change)"
   ]
  },
  {
   "cell_type": "markdown",
   "metadata": {},
   "source": [
    "### Largest change between 2 days"
   ]
  },
  {
   "cell_type": "code",
   "execution_count": 62,
   "metadata": {
    "ExecuteTime": {
     "end_time": "2019-06-12T12:21:11.855683Z",
     "start_time": "2019-06-12T12:21:11.851165Z"
    }
   },
   "outputs": [
    {
     "name": "stdout",
     "output_type": "stream",
     "text": [
      "0.20277074944679999\n"
     ]
    }
   ],
   "source": [
    "change = price_list[0][4] - price_list[1][4]\n",
    "for i in range(2,len(price_list)):\n",
    "    if change < (price_list[i][4] - price_list[i-1][4]):\n",
    "        change = price_list[i][4] - price_list[i-1][4]\n",
    "print(change)"
   ]
  },
  {
   "cell_type": "markdown",
   "metadata": {},
   "source": [
    "### Avg Daily volume"
   ]
  },
  {
   "cell_type": "code",
   "execution_count": 65,
   "metadata": {
    "ExecuteTime": {
     "end_time": "2019-06-12T12:34:44.916400Z",
     "start_time": "2019-06-12T12:34:44.912653Z"
    }
   },
   "outputs": [
    {
     "name": "stdout",
     "output_type": "stream",
     "text": [
      "23.61681892783008\n"
     ]
    }
   ],
   "source": [
    "volume = []\n",
    "for i in price_list:\n",
    "    volume.append(i[6])\n",
    "avg = sum(volume) / len(price_list)\n",
    "print(avg)"
   ]
  },
  {
   "cell_type": "markdown",
   "metadata": {},
   "source": [
    "### Median"
   ]
  },
  {
   "cell_type": "code",
   "execution_count": 67,
   "metadata": {
    "ExecuteTime": {
     "end_time": "2019-06-12T12:36:30.344811Z",
     "start_time": "2019-06-12T12:36:30.317043Z"
    }
   },
   "outputs": [
    {
     "name": "stdout",
     "output_type": "stream",
     "text": [
      "Median -  0.064209180855596\n"
     ]
    }
   ],
   "source": [
    "volume = sorted(volume)\n",
    "print(\"Median - \", volume[6])"
   ]
  },
  {
   "cell_type": "code",
   "execution_count": null,
   "metadata": {},
   "outputs": [],
   "source": []
  }
 ],
 "metadata": {
  "kernelspec": {
   "display_name": "Python 3",
   "language": "python",
   "name": "python3"
  },
  "language_info": {
   "codemirror_mode": {
    "name": "ipython",
    "version": 3
   },
   "file_extension": ".py",
   "mimetype": "text/x-python",
   "name": "python",
   "nbconvert_exporter": "python",
   "pygments_lexer": "ipython3",
   "version": "3.6.7"
  },
  "toc": {
   "base_numbering": 1,
   "nav_menu": {},
   "number_sections": true,
   "sideBar": true,
   "skip_h1_title": false,
   "title_cell": "Table of Contents",
   "title_sidebar": "Contents",
   "toc_cell": false,
   "toc_position": {},
   "toc_section_display": true,
   "toc_window_display": false
  }
 },
 "nbformat": 4,
 "nbformat_minor": 2
}
